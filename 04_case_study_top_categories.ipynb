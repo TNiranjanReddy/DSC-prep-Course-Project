{
 "cells": [
  {
   "cell_type": "markdown",
   "metadata": {},
   "source": [
    "# Case study - favourable words from restaurant reviews"
   ]
  },
  {
   "cell_type": "code",
   "execution_count": 1,
   "metadata": {},
   "outputs": [],
   "source": [
    "# import the required libraries here\n",
    "import pandas as pd\n",
    "import numpy as np"
   ]
  },
  {
   "cell_type": "markdown",
   "metadata": {},
   "source": [
    "## Most popular restaurant category\n",
    "Hopefully you had a look at the data dictionary [here](https://www.yelp.com/dataset/documentation/main)\n",
    "and concluded that the business.json file was the best place to start to answer the question of what is the most popular category. We load the data in from file for you. If the data file is in your working directory, with this notebooks, this should work. Then we perform some typical quick looks at it."
   ]
  },
  {
   "cell_type": "code",
   "execution_count": 2,
   "metadata": {},
   "outputs": [],
   "source": [
    "# For convenience here, we are accessing the data in the working directory that contains our notebooks.\n",
    "# Normal best practise is to keep your data separate, but this keeps things simple.\n",
    "business = pd.read_json('yelp_academic_dataset_business.json', lines=True)"
   ]
  },
  {
   "cell_type": "code",
   "execution_count": 3,
   "metadata": {},
   "outputs": [
    {
     "data": {
      "text/plain": [
       "(192609, 14)"
      ]
     },
     "execution_count": 3,
     "metadata": {},
     "output_type": "execute_result"
    }
   ],
   "source": [
    "business.shape"
   ]
  },
  {
   "cell_type": "code",
   "execution_count": 4,
   "metadata": {},
   "outputs": [
    {
     "data": {
      "text/html": [
       "<div>\n",
       "<style scoped>\n",
       "    .dataframe tbody tr th:only-of-type {\n",
       "        vertical-align: middle;\n",
       "    }\n",
       "\n",
       "    .dataframe tbody tr th {\n",
       "        vertical-align: top;\n",
       "    }\n",
       "\n",
       "    .dataframe thead th {\n",
       "        text-align: right;\n",
       "    }\n",
       "</style>\n",
       "<table border=\"1\" class=\"dataframe\">\n",
       "  <thead>\n",
       "    <tr style=\"text-align: right;\">\n",
       "      <th></th>\n",
       "      <th>address</th>\n",
       "      <th>attributes</th>\n",
       "      <th>business_id</th>\n",
       "      <th>categories</th>\n",
       "      <th>city</th>\n",
       "      <th>hours</th>\n",
       "      <th>is_open</th>\n",
       "      <th>latitude</th>\n",
       "      <th>longitude</th>\n",
       "      <th>name</th>\n",
       "      <th>postal_code</th>\n",
       "      <th>review_count</th>\n",
       "      <th>stars</th>\n",
       "      <th>state</th>\n",
       "    </tr>\n",
       "  </thead>\n",
       "  <tbody>\n",
       "    <tr>\n",
       "      <th>0</th>\n",
       "      <td>2818 E Camino Acequia Drive</td>\n",
       "      <td>{'GoodForKids': 'False'}</td>\n",
       "      <td>1SWheh84yJXfytovILXOAQ</td>\n",
       "      <td>Golf, Active Life</td>\n",
       "      <td>Phoenix</td>\n",
       "      <td>None</td>\n",
       "      <td>0</td>\n",
       "      <td>33.522143</td>\n",
       "      <td>-112.018481</td>\n",
       "      <td>Arizona Biltmore Golf Club</td>\n",
       "      <td>85016</td>\n",
       "      <td>5</td>\n",
       "      <td>3.0</td>\n",
       "      <td>AZ</td>\n",
       "    </tr>\n",
       "    <tr>\n",
       "      <th>1</th>\n",
       "      <td>30 Eglinton Avenue W</td>\n",
       "      <td>{'RestaurantsReservations': 'True', 'GoodForMe...</td>\n",
       "      <td>QXAEGFB4oINsVuTFxEYKFQ</td>\n",
       "      <td>Specialty Food, Restaurants, Dim Sum, Imported...</td>\n",
       "      <td>Mississauga</td>\n",
       "      <td>{'Monday': '9:0-0:0', 'Tuesday': '9:0-0:0', 'W...</td>\n",
       "      <td>1</td>\n",
       "      <td>43.605499</td>\n",
       "      <td>-79.652289</td>\n",
       "      <td>Emerald Chinese Restaurant</td>\n",
       "      <td>L5R 3E7</td>\n",
       "      <td>128</td>\n",
       "      <td>2.5</td>\n",
       "      <td>ON</td>\n",
       "    </tr>\n",
       "    <tr>\n",
       "      <th>2</th>\n",
       "      <td>10110 Johnston Rd, Ste 15</td>\n",
       "      <td>{'GoodForKids': 'True', 'NoiseLevel': 'u'avera...</td>\n",
       "      <td>gnKjwL_1w79qoiV3IC_xQQ</td>\n",
       "      <td>Sushi Bars, Restaurants, Japanese</td>\n",
       "      <td>Charlotte</td>\n",
       "      <td>{'Monday': '17:30-21:30', 'Wednesday': '17:30-...</td>\n",
       "      <td>1</td>\n",
       "      <td>35.092564</td>\n",
       "      <td>-80.859132</td>\n",
       "      <td>Musashi Japanese Restaurant</td>\n",
       "      <td>28210</td>\n",
       "      <td>170</td>\n",
       "      <td>4.0</td>\n",
       "      <td>NC</td>\n",
       "    </tr>\n",
       "    <tr>\n",
       "      <th>3</th>\n",
       "      <td>15655 W Roosevelt St, Ste 237</td>\n",
       "      <td>None</td>\n",
       "      <td>xvX2CttrVhyG2z1dFg_0xw</td>\n",
       "      <td>Insurance, Financial Services</td>\n",
       "      <td>Goodyear</td>\n",
       "      <td>{'Monday': '8:0-17:0', 'Tuesday': '8:0-17:0', ...</td>\n",
       "      <td>1</td>\n",
       "      <td>33.455613</td>\n",
       "      <td>-112.395596</td>\n",
       "      <td>Farmers Insurance - Paul Lorenz</td>\n",
       "      <td>85338</td>\n",
       "      <td>3</td>\n",
       "      <td>5.0</td>\n",
       "      <td>AZ</td>\n",
       "    </tr>\n",
       "    <tr>\n",
       "      <th>4</th>\n",
       "      <td>4209 Stuart Andrew Blvd, Ste F</td>\n",
       "      <td>{'BusinessAcceptsBitcoin': 'False', 'ByAppoint...</td>\n",
       "      <td>HhyxOkGAM07SRYtlQ4wMFQ</td>\n",
       "      <td>Plumbing, Shopping, Local Services, Home Servi...</td>\n",
       "      <td>Charlotte</td>\n",
       "      <td>{'Monday': '7:0-23:0', 'Tuesday': '7:0-23:0', ...</td>\n",
       "      <td>1</td>\n",
       "      <td>35.190012</td>\n",
       "      <td>-80.887223</td>\n",
       "      <td>Queen City Plumbing</td>\n",
       "      <td>28217</td>\n",
       "      <td>4</td>\n",
       "      <td>4.0</td>\n",
       "      <td>NC</td>\n",
       "    </tr>\n",
       "    <tr>\n",
       "      <th>5</th>\n",
       "      <td>Credit Valley Town Plaza, F2 - 6045 Creditview Rd</td>\n",
       "      <td>{'BusinessParking': '{'garage': False, 'street...</td>\n",
       "      <td>68dUKd8_8liJ7in4aWOSEA</td>\n",
       "      <td>Shipping Centers, Couriers &amp; Delivery Services...</td>\n",
       "      <td>Mississauga</td>\n",
       "      <td>{'Monday': '9:0-19:0', 'Tuesday': '9:0-20:0', ...</td>\n",
       "      <td>1</td>\n",
       "      <td>43.599475</td>\n",
       "      <td>-79.711584</td>\n",
       "      <td>The UPS Store</td>\n",
       "      <td>L5V 0B1</td>\n",
       "      <td>3</td>\n",
       "      <td>2.5</td>\n",
       "      <td>ON</td>\n",
       "    </tr>\n",
       "    <tr>\n",
       "      <th>6</th>\n",
       "      <td>20 Douglas Woods Drive Southeast</td>\n",
       "      <td>{'RestaurantsPriceRange2': '2', 'BusinessParki...</td>\n",
       "      <td>5JucpCfHZltJh5r1JabjDg</td>\n",
       "      <td>Beauty &amp; Spas, Hair Salons</td>\n",
       "      <td>Calgary</td>\n",
       "      <td>None</td>\n",
       "      <td>1</td>\n",
       "      <td>50.943646</td>\n",
       "      <td>-114.001828</td>\n",
       "      <td>Edgeworxx Studio</td>\n",
       "      <td>T2Z 1K4</td>\n",
       "      <td>7</td>\n",
       "      <td>3.5</td>\n",
       "      <td>AB</td>\n",
       "    </tr>\n",
       "    <tr>\n",
       "      <th>7</th>\n",
       "      <td>4545 E Tropicana Rd Ste 8, Tropicana</td>\n",
       "      <td>{'RestaurantsPriceRange2': '3', 'GoodForKids':...</td>\n",
       "      <td>gbQN7vr_caG_A1ugSmGhWg</td>\n",
       "      <td>Hair Salons, Hair Stylists, Barbers, Men's Hai...</td>\n",
       "      <td>Las Vegas</td>\n",
       "      <td>{'Monday': '10:0-19:0', 'Tuesday': '10:0-19:0'...</td>\n",
       "      <td>1</td>\n",
       "      <td>36.099872</td>\n",
       "      <td>-115.074574</td>\n",
       "      <td>Supercuts</td>\n",
       "      <td>89121</td>\n",
       "      <td>3</td>\n",
       "      <td>3.5</td>\n",
       "      <td>NV</td>\n",
       "    </tr>\n",
       "    <tr>\n",
       "      <th>8</th>\n",
       "      <td>5940 W Union Hills Dr</td>\n",
       "      <td>{'RestaurantsPriceRange2': '2', 'ByAppointment...</td>\n",
       "      <td>Y6iyemLX_oylRpnr38vgMA</td>\n",
       "      <td>Nail Salons, Beauty &amp; Spas, Day Spas</td>\n",
       "      <td>Glendale</td>\n",
       "      <td>{'Tuesday': '12:0-18:0', 'Wednesday': '10:0-18...</td>\n",
       "      <td>0</td>\n",
       "      <td>33.654815</td>\n",
       "      <td>-112.188568</td>\n",
       "      <td>Vita Bella Fine Day Spa</td>\n",
       "      <td>85308</td>\n",
       "      <td>8</td>\n",
       "      <td>5.0</td>\n",
       "      <td>AZ</td>\n",
       "    </tr>\n",
       "    <tr>\n",
       "      <th>9</th>\n",
       "      <td>21689 Lorain Rd</td>\n",
       "      <td>{'ByAppointmentOnly': 'False', 'BusinessAccept...</td>\n",
       "      <td>4GBVPIYRvzGh4K4TkRQ_rw</td>\n",
       "      <td>Beauty &amp; Spas, Nail Salons, Day Spas, Massage</td>\n",
       "      <td>Fairview Park</td>\n",
       "      <td>{'Tuesday': '9:0-21:0', 'Wednesday': '9:0-21:0...</td>\n",
       "      <td>1</td>\n",
       "      <td>41.440825</td>\n",
       "      <td>-81.854097</td>\n",
       "      <td>Options Salon &amp; Spa</td>\n",
       "      <td>44126</td>\n",
       "      <td>8</td>\n",
       "      <td>4.5</td>\n",
       "      <td>OH</td>\n",
       "    </tr>\n",
       "  </tbody>\n",
       "</table>\n",
       "</div>"
      ],
      "text/plain": [
       "                                             address  \\\n",
       "0                        2818 E Camino Acequia Drive   \n",
       "1                               30 Eglinton Avenue W   \n",
       "2                          10110 Johnston Rd, Ste 15   \n",
       "3                      15655 W Roosevelt St, Ste 237   \n",
       "4                     4209 Stuart Andrew Blvd, Ste F   \n",
       "5  Credit Valley Town Plaza, F2 - 6045 Creditview Rd   \n",
       "6                   20 Douglas Woods Drive Southeast   \n",
       "7               4545 E Tropicana Rd Ste 8, Tropicana   \n",
       "8                              5940 W Union Hills Dr   \n",
       "9                                    21689 Lorain Rd   \n",
       "\n",
       "                                          attributes             business_id  \\\n",
       "0                           {'GoodForKids': 'False'}  1SWheh84yJXfytovILXOAQ   \n",
       "1  {'RestaurantsReservations': 'True', 'GoodForMe...  QXAEGFB4oINsVuTFxEYKFQ   \n",
       "2  {'GoodForKids': 'True', 'NoiseLevel': 'u'avera...  gnKjwL_1w79qoiV3IC_xQQ   \n",
       "3                                               None  xvX2CttrVhyG2z1dFg_0xw   \n",
       "4  {'BusinessAcceptsBitcoin': 'False', 'ByAppoint...  HhyxOkGAM07SRYtlQ4wMFQ   \n",
       "5  {'BusinessParking': '{'garage': False, 'street...  68dUKd8_8liJ7in4aWOSEA   \n",
       "6  {'RestaurantsPriceRange2': '2', 'BusinessParki...  5JucpCfHZltJh5r1JabjDg   \n",
       "7  {'RestaurantsPriceRange2': '3', 'GoodForKids':...  gbQN7vr_caG_A1ugSmGhWg   \n",
       "8  {'RestaurantsPriceRange2': '2', 'ByAppointment...  Y6iyemLX_oylRpnr38vgMA   \n",
       "9  {'ByAppointmentOnly': 'False', 'BusinessAccept...  4GBVPIYRvzGh4K4TkRQ_rw   \n",
       "\n",
       "                                          categories           city  \\\n",
       "0                                  Golf, Active Life        Phoenix   \n",
       "1  Specialty Food, Restaurants, Dim Sum, Imported...    Mississauga   \n",
       "2                  Sushi Bars, Restaurants, Japanese      Charlotte   \n",
       "3                      Insurance, Financial Services       Goodyear   \n",
       "4  Plumbing, Shopping, Local Services, Home Servi...      Charlotte   \n",
       "5  Shipping Centers, Couriers & Delivery Services...    Mississauga   \n",
       "6                         Beauty & Spas, Hair Salons        Calgary   \n",
       "7  Hair Salons, Hair Stylists, Barbers, Men's Hai...      Las Vegas   \n",
       "8               Nail Salons, Beauty & Spas, Day Spas       Glendale   \n",
       "9      Beauty & Spas, Nail Salons, Day Spas, Massage  Fairview Park   \n",
       "\n",
       "                                               hours  is_open   latitude  \\\n",
       "0                                               None        0  33.522143   \n",
       "1  {'Monday': '9:0-0:0', 'Tuesday': '9:0-0:0', 'W...        1  43.605499   \n",
       "2  {'Monday': '17:30-21:30', 'Wednesday': '17:30-...        1  35.092564   \n",
       "3  {'Monday': '8:0-17:0', 'Tuesday': '8:0-17:0', ...        1  33.455613   \n",
       "4  {'Monday': '7:0-23:0', 'Tuesday': '7:0-23:0', ...        1  35.190012   \n",
       "5  {'Monday': '9:0-19:0', 'Tuesday': '9:0-20:0', ...        1  43.599475   \n",
       "6                                               None        1  50.943646   \n",
       "7  {'Monday': '10:0-19:0', 'Tuesday': '10:0-19:0'...        1  36.099872   \n",
       "8  {'Tuesday': '12:0-18:0', 'Wednesday': '10:0-18...        0  33.654815   \n",
       "9  {'Tuesday': '9:0-21:0', 'Wednesday': '9:0-21:0...        1  41.440825   \n",
       "\n",
       "    longitude                             name postal_code  review_count  \\\n",
       "0 -112.018481       Arizona Biltmore Golf Club       85016             5   \n",
       "1  -79.652289       Emerald Chinese Restaurant     L5R 3E7           128   \n",
       "2  -80.859132      Musashi Japanese Restaurant       28210           170   \n",
       "3 -112.395596  Farmers Insurance - Paul Lorenz       85338             3   \n",
       "4  -80.887223              Queen City Plumbing       28217             4   \n",
       "5  -79.711584                    The UPS Store     L5V 0B1             3   \n",
       "6 -114.001828                 Edgeworxx Studio     T2Z 1K4             7   \n",
       "7 -115.074574                        Supercuts       89121             3   \n",
       "8 -112.188568          Vita Bella Fine Day Spa       85308             8   \n",
       "9  -81.854097              Options Salon & Spa       44126             8   \n",
       "\n",
       "   stars state  \n",
       "0    3.0    AZ  \n",
       "1    2.5    ON  \n",
       "2    4.0    NC  \n",
       "3    5.0    AZ  \n",
       "4    4.0    NC  \n",
       "5    2.5    ON  \n",
       "6    3.5    AB  \n",
       "7    3.5    NV  \n",
       "8    5.0    AZ  \n",
       "9    4.5    OH  "
      ]
     },
     "execution_count": 4,
     "metadata": {},
     "output_type": "execute_result"
    }
   ],
   "source": [
    "business.head(10)"
   ]
  },
  {
   "cell_type": "code",
   "execution_count": 5,
   "metadata": {},
   "outputs": [
    {
     "name": "stdout",
     "output_type": "stream",
     "text": [
      "<class 'pandas.core.frame.DataFrame'>\n",
      "RangeIndex: 192609 entries, 0 to 192608\n",
      "Data columns (total 14 columns):\n",
      "address         192609 non-null object\n",
      "attributes      163773 non-null object\n",
      "business_id     192609 non-null object\n",
      "categories      192127 non-null object\n",
      "city            192609 non-null object\n",
      "hours           147779 non-null object\n",
      "is_open         192609 non-null int64\n",
      "latitude        192609 non-null float64\n",
      "longitude       192609 non-null float64\n",
      "name            192609 non-null object\n",
      "postal_code     192609 non-null object\n",
      "review_count    192609 non-null int64\n",
      "stars           192609 non-null float64\n",
      "state           192609 non-null object\n",
      "dtypes: float64(3), int64(2), object(9)\n",
      "memory usage: 20.6+ MB\n"
     ]
    }
   ],
   "source": [
    "business.info()"
   ]
  },
  {
   "cell_type": "markdown",
   "metadata": {},
   "source": [
    "Not all columns are useful to us here. We are pretty sure we aren't interested in the specific address, attributes (facilities offered), the hours open, whether it's still open or not, the latitude and longitude, and the name of the restaurant. We also decide we aren't interested in drilling down to the postal code or neighborhood level either, so go ahead and drop those columns as well. You will now create a list of these columns and drop them from the DataFrame. Remember the axis and inplace arguments! Also, notice that there are fewer non-null categories than there are business_id. We'll come back to this point later."
   ]
  },
  {
   "cell_type": "code",
   "execution_count": 6,
   "metadata": {},
   "outputs": [],
   "source": [
    "# task: create a list of columns to drop, call it drop_cols\n",
    "# then go ahead and drop those columns from the DataFrame\n",
    "# two lines of code here:\n",
    "drop_cols = ['address','is_open','attributes','hours','latitude','longitude','name','postal_code']\n",
    "business.drop(drop_cols,axis=1,inplace=True)"
   ]
  },
  {
   "cell_type": "code",
   "execution_count": 7,
   "metadata": {},
   "outputs": [
    {
     "data": {
      "text/html": [
       "<div>\n",
       "<style scoped>\n",
       "    .dataframe tbody tr th:only-of-type {\n",
       "        vertical-align: middle;\n",
       "    }\n",
       "\n",
       "    .dataframe tbody tr th {\n",
       "        vertical-align: top;\n",
       "    }\n",
       "\n",
       "    .dataframe thead th {\n",
       "        text-align: right;\n",
       "    }\n",
       "</style>\n",
       "<table border=\"1\" class=\"dataframe\">\n",
       "  <thead>\n",
       "    <tr style=\"text-align: right;\">\n",
       "      <th></th>\n",
       "      <th>business_id</th>\n",
       "      <th>categories</th>\n",
       "      <th>city</th>\n",
       "      <th>review_count</th>\n",
       "      <th>stars</th>\n",
       "      <th>state</th>\n",
       "    </tr>\n",
       "  </thead>\n",
       "  <tbody>\n",
       "    <tr>\n",
       "      <th>0</th>\n",
       "      <td>1SWheh84yJXfytovILXOAQ</td>\n",
       "      <td>Golf, Active Life</td>\n",
       "      <td>Phoenix</td>\n",
       "      <td>5</td>\n",
       "      <td>3.0</td>\n",
       "      <td>AZ</td>\n",
       "    </tr>\n",
       "    <tr>\n",
       "      <th>1</th>\n",
       "      <td>QXAEGFB4oINsVuTFxEYKFQ</td>\n",
       "      <td>Specialty Food, Restaurants, Dim Sum, Imported...</td>\n",
       "      <td>Mississauga</td>\n",
       "      <td>128</td>\n",
       "      <td>2.5</td>\n",
       "      <td>ON</td>\n",
       "    </tr>\n",
       "    <tr>\n",
       "      <th>2</th>\n",
       "      <td>gnKjwL_1w79qoiV3IC_xQQ</td>\n",
       "      <td>Sushi Bars, Restaurants, Japanese</td>\n",
       "      <td>Charlotte</td>\n",
       "      <td>170</td>\n",
       "      <td>4.0</td>\n",
       "      <td>NC</td>\n",
       "    </tr>\n",
       "    <tr>\n",
       "      <th>3</th>\n",
       "      <td>xvX2CttrVhyG2z1dFg_0xw</td>\n",
       "      <td>Insurance, Financial Services</td>\n",
       "      <td>Goodyear</td>\n",
       "      <td>3</td>\n",
       "      <td>5.0</td>\n",
       "      <td>AZ</td>\n",
       "    </tr>\n",
       "    <tr>\n",
       "      <th>4</th>\n",
       "      <td>HhyxOkGAM07SRYtlQ4wMFQ</td>\n",
       "      <td>Plumbing, Shopping, Local Services, Home Servi...</td>\n",
       "      <td>Charlotte</td>\n",
       "      <td>4</td>\n",
       "      <td>4.0</td>\n",
       "      <td>NC</td>\n",
       "    </tr>\n",
       "  </tbody>\n",
       "</table>\n",
       "</div>"
      ],
      "text/plain": [
       "              business_id                                         categories  \\\n",
       "0  1SWheh84yJXfytovILXOAQ                                  Golf, Active Life   \n",
       "1  QXAEGFB4oINsVuTFxEYKFQ  Specialty Food, Restaurants, Dim Sum, Imported...   \n",
       "2  gnKjwL_1w79qoiV3IC_xQQ                  Sushi Bars, Restaurants, Japanese   \n",
       "3  xvX2CttrVhyG2z1dFg_0xw                      Insurance, Financial Services   \n",
       "4  HhyxOkGAM07SRYtlQ4wMFQ  Plumbing, Shopping, Local Services, Home Servi...   \n",
       "\n",
       "          city  review_count  stars state  \n",
       "0      Phoenix             5    3.0    AZ  \n",
       "1  Mississauga           128    2.5    ON  \n",
       "2    Charlotte           170    4.0    NC  \n",
       "3     Goodyear             3    5.0    AZ  \n",
       "4    Charlotte             4    4.0    NC  "
      ]
     },
     "execution_count": 7,
     "metadata": {},
     "output_type": "execute_result"
    }
   ],
   "source": [
    "business.head()"
   ]
  },
  {
   "cell_type": "markdown",
   "metadata": {},
   "source": [
    "Okay, so now we have a much more manageable (width) of data. Remember our first task is to identify the most popular type of restaurant. We now have our eye on the categories column. We could simply count each individual category in this column, just as we did with our pet owners survey. But our categories column isn't quite in the same format as that data. Each item in categories is actually a string, as we demonstrate below, with each item we're interested in separated by commas."
   ]
  },
  {
   "cell_type": "code",
   "execution_count": 8,
   "metadata": {},
   "outputs": [
    {
     "name": "stdout",
     "output_type": "stream",
     "text": [
      "Golf, Active Life\n"
     ]
    }
   ],
   "source": [
    "# print the first element of business['categories']\n",
    "print(business.categories[0])"
   ]
  },
  {
   "cell_type": "code",
   "execution_count": 9,
   "metadata": {},
   "outputs": [
    {
     "data": {
      "text/plain": [
       "str"
      ]
     },
     "execution_count": 9,
     "metadata": {},
     "output_type": "execute_result"
    }
   ],
   "source": [
    "# what is the type of this element?\n",
    "type(business.categories[0])"
   ]
  },
  {
   "cell_type": "code",
   "execution_count": 10,
   "metadata": {},
   "outputs": [
    {
     "data": {
      "text/plain": [
       "'G'"
      ]
     },
     "execution_count": 10,
     "metadata": {},
     "output_type": "execute_result"
    }
   ],
   "source": [
    "# if the first element were a list, this would return 'Tours', not 'T'\n",
    "business.categories[0][0]"
   ]
  },
  {
   "cell_type": "markdown",
   "metadata": {},
   "source": [
    "You're now going to use [this](https://pandas.pydata.org/pandas-docs/stable/generated/pandas.Series.str.split.html) pandas Series method to split these strings into lists."
   ]
  },
  {
   "cell_type": "code",
   "execution_count": 11,
   "metadata": {},
   "outputs": [],
   "source": [
    "# task: split the categories column (a pandas Series) into lists of categories,\n",
    "# e.g. the string \"Category1, Category2\" becomes the list [\"Category1\", \"Category2\"]\n",
    "# hint: pass the argument pat = ', ?' in to split on a comma which may be followed by a space\n",
    "business['categories'] = business['categories'].str.split(pat = ', ?')"
   ]
  },
  {
   "cell_type": "code",
   "execution_count": 12,
   "metadata": {},
   "outputs": [
    {
     "data": {
      "text/plain": [
       "0                                  [Golf, Active Life]\n",
       "1    [Specialty Food, Restaurants, Dim Sum, Importe...\n",
       "2                  [Sushi Bars, Restaurants, Japanese]\n",
       "3                      [Insurance, Financial Services]\n",
       "4    [Plumbing, Shopping, Local Services, Home Serv...\n",
       "Name: categories, dtype: object"
      ]
     },
     "execution_count": 12,
     "metadata": {},
     "output_type": "execute_result"
    }
   ],
   "source": [
    "business['categories'].head()"
   ]
  },
  {
   "cell_type": "markdown",
   "metadata": {},
   "source": [
    "See we now have a pandas Series of lists. Go ahead now and use the technique you learnt in the pet owners survey to print the top (most frequent) categories. We don't need to keep the raw, very long, list of categories, so go ahead and chain the method for counting the values and outputting the top twenty in one go. This may take your computer a minute or two."
   ]
  },
  {
   "cell_type": "markdown",
   "metadata": {},
   "source": [
    "Now we introduce you to a new kind of plot: a bar plot. This gives us a nice visual representation of the frequency of the top 20 categories."
   ]
  },
  {
   "cell_type": "code",
   "execution_count": 13,
   "metadata": {},
   "outputs": [],
   "source": [
    "# task: count the frequency of each item in categories and keep the top twenty\n",
    "# hint: the latter can be done by passing an argument to the head method\n",
    "# assign the result to the variable category_counts - one line of code here:\n",
    "category_counts =  business['categories'].apply(pd.Series).stack().reset_index(drop=True).value_counts().head(20)\n"
   ]
  },
  {
   "cell_type": "code",
   "execution_count": 14,
   "metadata": {},
   "outputs": [
    {
     "data": {
      "text/plain": [
       "<matplotlib.axes._subplots.AxesSubplot at 0x2002d1f6e80>"
      ]
     },
     "execution_count": 14,
     "metadata": {},
     "output_type": "execute_result"
    }
   ],
   "source": [
    "category_counts.plot(kind='bar')"
   ]
  },
  {
   "cell_type": "markdown",
   "metadata": {},
   "source": [
    "This has given us our first surprise. Our dataset contains more than just our desired industry (Restaurants). Someone hasn't thought to give us just the data we wanted. Over time this will surprise you less and less. In fact, as a data scientist, you'll become surprised when someone gives you a clean dataset containing only the data you wanted! Restaurants do seem to be our most frequent type of business, but represent fewer than 60,000 out of our original 188,000 businesses. We now figure we want to filter and keep just those businesses that have 'Restaurant' in their categories entry.\n",
    "\n"
   ]
  },
  {
   "cell_type": "markdown",
   "metadata": {},
   "source": [
    "Before we start filtering on categories, however, remember we noticed early on that there were fewer non-null categories than there were business_id? How many null (missing) categories are there?"
   ]
  },
  {
   "cell_type": "code",
   "execution_count": 15,
   "metadata": {},
   "outputs": [
    {
     "data": {
      "text/plain": [
       "482"
      ]
     },
     "execution_count": 15,
     "metadata": {},
     "output_type": "execute_result"
    }
   ],
   "source": [
    "pd.isna(business['categories']).sum()"
   ]
  },
  {
   "cell_type": "markdown",
   "metadata": {},
   "source": [
    "There are 541 business_id that have no category associated with them. Clearly these are not much use to us. First, we will have a quick look at the first few of them to check"
   ]
  },
  {
   "cell_type": "code",
   "execution_count": 16,
   "metadata": {},
   "outputs": [
    {
     "data": {
      "text/html": [
       "<div>\n",
       "<style scoped>\n",
       "    .dataframe tbody tr th:only-of-type {\n",
       "        vertical-align: middle;\n",
       "    }\n",
       "\n",
       "    .dataframe tbody tr th {\n",
       "        vertical-align: top;\n",
       "    }\n",
       "\n",
       "    .dataframe thead th {\n",
       "        text-align: right;\n",
       "    }\n",
       "</style>\n",
       "<table border=\"1\" class=\"dataframe\">\n",
       "  <thead>\n",
       "    <tr style=\"text-align: right;\">\n",
       "      <th></th>\n",
       "      <th>business_id</th>\n",
       "      <th>categories</th>\n",
       "      <th>city</th>\n",
       "      <th>review_count</th>\n",
       "      <th>stars</th>\n",
       "      <th>state</th>\n",
       "    </tr>\n",
       "  </thead>\n",
       "  <tbody>\n",
       "    <tr>\n",
       "      <th>265</th>\n",
       "      <td>xOR85RicYj642O3_iJ7hgg</td>\n",
       "      <td>None</td>\n",
       "      <td>Scottsdale</td>\n",
       "      <td>3</td>\n",
       "      <td>3.5</td>\n",
       "      <td>AZ</td>\n",
       "    </tr>\n",
       "    <tr>\n",
       "      <th>597</th>\n",
       "      <td>tWvep1usNNI3NYkoRbSb7g</td>\n",
       "      <td>None</td>\n",
       "      <td>Airdrie</td>\n",
       "      <td>3</td>\n",
       "      <td>1.0</td>\n",
       "      <td>AB</td>\n",
       "    </tr>\n",
       "    <tr>\n",
       "      <th>1020</th>\n",
       "      <td>llG2YxnevtFhW7LVa4QJXQ</td>\n",
       "      <td>None</td>\n",
       "      <td>Pittsburgh</td>\n",
       "      <td>5</td>\n",
       "      <td>2.0</td>\n",
       "      <td>PA</td>\n",
       "    </tr>\n",
       "    <tr>\n",
       "      <th>1332</th>\n",
       "      <td>zi2CV7isWyGRxVXJxdDQXg</td>\n",
       "      <td>None</td>\n",
       "      <td>Charlotte</td>\n",
       "      <td>3</td>\n",
       "      <td>1.5</td>\n",
       "      <td>NC</td>\n",
       "    </tr>\n",
       "    <tr>\n",
       "      <th>1770</th>\n",
       "      <td>oyPZZX2fQYpSBHk25tL26A</td>\n",
       "      <td>None</td>\n",
       "      <td>Etobicoke</td>\n",
       "      <td>6</td>\n",
       "      <td>4.5</td>\n",
       "      <td>ON</td>\n",
       "    </tr>\n",
       "  </tbody>\n",
       "</table>\n",
       "</div>"
      ],
      "text/plain": [
       "                 business_id categories        city  review_count  stars state\n",
       "265   xOR85RicYj642O3_iJ7hgg       None  Scottsdale             3    3.5    AZ\n",
       "597   tWvep1usNNI3NYkoRbSb7g       None     Airdrie             3    1.0    AB\n",
       "1020  llG2YxnevtFhW7LVa4QJXQ       None  Pittsburgh             5    2.0    PA\n",
       "1332  zi2CV7isWyGRxVXJxdDQXg       None   Charlotte             3    1.5    NC\n",
       "1770  oyPZZX2fQYpSBHk25tL26A       None   Etobicoke             6    4.5    ON"
      ]
     },
     "execution_count": 16,
     "metadata": {},
     "output_type": "execute_result"
    }
   ],
   "source": [
    "business.loc[pd.isna(business['categories'])].head()"
   ]
  },
  {
   "cell_type": "markdown",
   "metadata": {},
   "source": [
    "Sure enough there is no information in the categories column for these businesses. Go ahead and remove these 541 rows from the DataFrame. Assign the result back to the original DataFrame."
   ]
  },
  {
   "cell_type": "code",
   "execution_count": 17,
   "metadata": {},
   "outputs": [],
   "source": [
    "# hint, the opposite of pd.isna() is ~pd.isna()\n",
    "# one line of code here, assigning the result back to business\n",
    "business = business.loc[~pd.isna(business['categories'])]"
   ]
  },
  {
   "cell_type": "markdown",
   "metadata": {},
   "source": [
    "Remember how you filtered our pet owner survey to select just dog owners? Now you're going to filter our business DataFrame to keep just those rows (businesses) that are restaurants. You'll do this in exactly the same way you did when testing whether 'dog' was in the list, although you'll keep all columns, not calculate a summary statistic, and will overwrite the original business DataFrame. Remember, we have a nice tidy list of categories now."
   ]
  },
  {
   "cell_type": "code",
   "execution_count": 18,
   "metadata": {},
   "outputs": [],
   "source": [
    "business = business.loc[business['categories'].apply(lambda x: 'Restaurants' in x), :]"
   ]
  },
  {
   "cell_type": "code",
   "execution_count": 19,
   "metadata": {},
   "outputs": [
    {
     "data": {
      "text/plain": [
       "(59371, 6)"
      ]
     },
     "execution_count": 19,
     "metadata": {},
     "output_type": "execute_result"
    }
   ],
   "source": [
    "business.shape"
   ]
  },
  {
   "cell_type": "markdown",
   "metadata": {},
   "source": [
    "And now we can count the different categories for what should now just be restaurants"
   ]
  },
  {
   "cell_type": "code",
   "execution_count": 20,
   "metadata": {},
   "outputs": [],
   "source": [
    "restaurant_category_counts = business['categories'].apply(pd.Series).stack().reset_index(drop=True).value_counts().head(20)"
   ]
  },
  {
   "cell_type": "code",
   "execution_count": 21,
   "metadata": {},
   "outputs": [
    {
     "data": {
      "text/plain": [
       "Restaurants    59371\n",
       "Food           14800\n",
       "Nightlife       8562\n",
       "Bars            8182\n",
       "Sandwiches      7332\n",
       "dtype: int64"
      ]
     },
     "execution_count": 21,
     "metadata": {},
     "output_type": "execute_result"
    }
   ],
   "source": [
    "restaurant_category_counts.head()"
   ]
  },
  {
   "cell_type": "code",
   "execution_count": 22,
   "metadata": {},
   "outputs": [
    {
     "data": {
      "text/plain": [
       "<matplotlib.axes._subplots.AxesSubplot at 0x2002cbc8cf8>"
      ]
     },
     "execution_count": 22,
     "metadata": {},
     "output_type": "execute_result"
    },
    {
     "data": {
      "image/png": "[encoded data removed]",
      "text/plain": [
       "<Figure size 432x288 with 1 Axes>"
      ]
     },
     "metadata": {
      "needs_background": "light"
     },
     "output_type": "display_data"
    }
   ],
   "source": [
    "# 'Restaurants', of course, is our most frequent entry because, by definition, it is\n",
    "# present in every case! Plot a bar chart now of the frequencies of the other values.\n",
    "restaurant_category_counts[1:].plot(kind='bar')"
   ]
  },
  {
   "cell_type": "markdown",
   "metadata": {},
   "source": [
    "We see we still have a few noise categories coming in, such as 'Food' and 'Nightlife'. But we can see that Pizza restaurants would seem to be a good bet for our marketing campaign trial! However, we also notice that Italian is pretty close behind, and using our domain knowledge, we figure that we'll use businesses that mention either Pizza or Italian."
   ]
  },
  {
   "cell_type": "markdown",
   "metadata": {},
   "source": [
    "## Save desired business ID to file\n",
    "Now it's time to create the final list of the business IDs we're interested in. These are (Restaurant) businesses that have either 'Italian' or 'Pizza' in their categories column."
   ]
  },
  {
   "cell_type": "code",
   "execution_count": 23,
   "metadata": {},
   "outputs": [],
   "source": [
    "# task use a lambda function on the categories column again, but now you're not testing for\n",
    "# 'Restaurant' but either 'Pizza or 'Italian'\n",
    "# assign the result to italian_pizza (one line of code)\n",
    "italian_pizza = business.loc[business['categories'].apply(lambda x :('pizza' in x) | ('Italian' in x)),:]"
   ]
  },
  {
   "cell_type": "code",
   "execution_count": 24,
   "metadata": {},
   "outputs": [
    {
     "data": {
      "text/html": [
       "<div>\n",
       "<style scoped>\n",
       "    .dataframe tbody tr th:only-of-type {\n",
       "        vertical-align: middle;\n",
       "    }\n",
       "\n",
       "    .dataframe tbody tr th {\n",
       "        vertical-align: top;\n",
       "    }\n",
       "\n",
       "    .dataframe thead th {\n",
       "        text-align: right;\n",
       "    }\n",
       "</style>\n",
       "<table border=\"1\" class=\"dataframe\">\n",
       "  <thead>\n",
       "    <tr style=\"text-align: right;\">\n",
       "      <th></th>\n",
       "      <th>business_id</th>\n",
       "      <th>categories</th>\n",
       "      <th>city</th>\n",
       "      <th>review_count</th>\n",
       "      <th>stars</th>\n",
       "      <th>state</th>\n",
       "    </tr>\n",
       "  </thead>\n",
       "  <tbody>\n",
       "    <tr>\n",
       "      <th>13</th>\n",
       "      <td>fweCYi8FmbJXHCqLnwuk8w</td>\n",
       "      <td>[Italian, Restaurants, Pizza, Chicken Wings]</td>\n",
       "      <td>Mentor-on-the-Lake</td>\n",
       "      <td>16</td>\n",
       "      <td>4.0</td>\n",
       "      <td>OH</td>\n",
       "    </tr>\n",
       "    <tr>\n",
       "      <th>17</th>\n",
       "      <td>PZ-LZzSlhSe9utkQYU8pFg</td>\n",
       "      <td>[Restaurants, Italian]</td>\n",
       "      <td>Las Vegas</td>\n",
       "      <td>40</td>\n",
       "      <td>4.0</td>\n",
       "      <td>NV</td>\n",
       "    </tr>\n",
       "    <tr>\n",
       "      <th>35</th>\n",
       "      <td>BvYU3jvGd0TJ7IyZdfiN2Q</td>\n",
       "      <td>[Sandwiches, Italian, American (Traditional), ...</td>\n",
       "      <td>Charlotte</td>\n",
       "      <td>16</td>\n",
       "      <td>3.5</td>\n",
       "      <td>NC</td>\n",
       "    </tr>\n",
       "    <tr>\n",
       "      <th>80</th>\n",
       "      <td>PkDghu4aan2_wxrhXjTEgg</td>\n",
       "      <td>[Nightlife, Italian, Restaurants, Japanese, Lo...</td>\n",
       "      <td>Calgary</td>\n",
       "      <td>16</td>\n",
       "      <td>3.5</td>\n",
       "      <td>AB</td>\n",
       "    </tr>\n",
       "    <tr>\n",
       "      <th>83</th>\n",
       "      <td>RFbMVekR8lU9tPJ8sWrwHg</td>\n",
       "      <td>[Italian, Restaurants]</td>\n",
       "      <td>Toronto</td>\n",
       "      <td>18</td>\n",
       "      <td>4.0</td>\n",
       "      <td>ON</td>\n",
       "    </tr>\n",
       "  </tbody>\n",
       "</table>\n",
       "</div>"
      ],
      "text/plain": [
       "               business_id                                         categories  \\\n",
       "13  fweCYi8FmbJXHCqLnwuk8w       [Italian, Restaurants, Pizza, Chicken Wings]   \n",
       "17  PZ-LZzSlhSe9utkQYU8pFg                             [Restaurants, Italian]   \n",
       "35  BvYU3jvGd0TJ7IyZdfiN2Q  [Sandwiches, Italian, American (Traditional), ...   \n",
       "80  PkDghu4aan2_wxrhXjTEgg  [Nightlife, Italian, Restaurants, Japanese, Lo...   \n",
       "83  RFbMVekR8lU9tPJ8sWrwHg                             [Italian, Restaurants]   \n",
       "\n",
       "                  city  review_count  stars state  \n",
       "13  Mentor-on-the-Lake            16    4.0    OH  \n",
       "17           Las Vegas            40    4.0    NV  \n",
       "35           Charlotte            16    3.5    NC  \n",
       "80             Calgary            16    3.5    AB  \n",
       "83             Toronto            18    4.0    ON  "
      ]
     },
     "execution_count": 24,
     "metadata": {},
     "output_type": "execute_result"
    }
   ],
   "source": [
    "italian_pizza.head()"
   ]
  },
  {
   "cell_type": "code",
   "execution_count": 25,
   "metadata": {},
   "outputs": [
    {
     "data": {
      "text/plain": [
       "(4716, 6)"
      ]
     },
     "execution_count": 25,
     "metadata": {},
     "output_type": "execute_result"
    }
   ],
   "source": [
    "# Check the shape of the DataFrame\n",
    "italian_pizza.shape"
   ]
  },
  {
   "cell_type": "code",
   "execution_count": 27,
   "metadata": {},
   "outputs": [],
   "source": [
    "# task: use panda's to_csv DataFrame method to save the result to a file\n",
    "# use the index argument to suppress saving the index\n",
    "# use the columns argument to save only the business_id, review_count, stars, and state columns\n",
    "# one line of code here\n",
    "italian_pizza.to_csv('italianPizza.csv', columns=['business_id', 'review_count', 'stars', 'state'], index=False)"
   ]
  },
  {
   "cell_type": "markdown",
   "metadata": {},
   "source": [
    "# Summary\n",
    "Well done. You've done some pretty impressive data wrangling and some exploratory data analysis. You've read in some data and extracted a list of categories from one column, which is a pretty tricky thing to do! You've then explored the data and discovered a popular type of cuisine, then used that to extract just the relevant business IDs so you can use them as a key in your next step."
   ]
  }
 ],
 "metadata": {
  "kernelspec": {
   "display_name": "Python 3",
   "language": "python",
   "name": "python3"
  },
  "language_info": {
   "codemirror_mode": {
    "name": "ipython",
    "version": 3
   },
   "file_extension": ".py",
   "mimetype": "text/x-python",
   "name": "python",
   "nbconvert_exporter": "python",
   "pygments_lexer": "ipython3",
   "version": "3.7.3"
  }
 },
 "nbformat": 4,
 "nbformat_minor": 2
}
